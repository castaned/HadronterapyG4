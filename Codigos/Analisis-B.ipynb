{
 "cells": [
  {
   "cell_type": "code",
   "execution_count": 1,
   "id": "8c39dd00-1e1d-46b0-9cd2-d7782b32f3b1",
   "metadata": {},
   "outputs": [],
   "source": [
    "import pandas as pd\n",
    "import matplotlib.pyplot as plt"
   ]
  },
  {
   "cell_type": "markdown",
   "id": "47402033-ed64-4125-ba3d-94a8fd4bdd2e",
   "metadata": {},
   "source": [
    "Leemos los archivos \"Dose.out\" y lo cargamos como datasets"
   ]
  },
  {
   "cell_type": "code",
   "execution_count": 2,
   "id": "b109866a-fd99-4f00-b15c-9080ea1de114",
   "metadata": {},
   "outputs": [],
   "source": [
    "Dose_90_b = pd.read_csv(\"../Hadrontherapy/build/Dose_90_b.out\", delim_whitespace=True)\n",
    "Dose_70_b = pd.read_csv(\"../Hadrontherapy/build/Dose_70_b.out\", delim_whitespace=True)\n",
    "Dose_60_b = pd.read_csv(\"../Hadrontherapy/build/Dose_60_b.out\", delim_whitespace=True)\n",
    "Dose_50_b = pd.read_csv(\"../Hadrontherapy/build/Dose_50_b.out\", delim_whitespace=True)"
   ]
  },
  {
   "cell_type": "markdown",
   "id": "634fad59-11d6-4aa1-a3cf-7a105a8345e1",
   "metadata": {},
   "source": [
    "Vemos el contenido que contiene y su estadística básica (con uno es suficiente)"
   ]
  },
  {
   "cell_type": "code",
   "execution_count": 3,
   "id": "d3f41b97-5db5-46ee-a9a0-45da61988c9c",
   "metadata": {},
   "outputs": [
    {
     "data": {
      "text/html": [
       "<div>\n",
       "<style scoped>\n",
       "    .dataframe tbody tr th:only-of-type {\n",
       "        vertical-align: middle;\n",
       "    }\n",
       "\n",
       "    .dataframe tbody tr th {\n",
       "        vertical-align: top;\n",
       "    }\n",
       "\n",
       "    .dataframe thead th {\n",
       "        text-align: right;\n",
       "    }\n",
       "</style>\n",
       "<table border=\"1\" class=\"dataframe\">\n",
       "  <thead>\n",
       "    <tr style=\"text-align: right;\">\n",
       "      <th></th>\n",
       "      <th>i</th>\n",
       "      <th>j</th>\n",
       "      <th>k</th>\n",
       "      <th>Dose(Gy)</th>\n",
       "      <th>proton_1</th>\n",
       "      <th>proton_1.1</th>\n",
       "      <th>O16</th>\n",
       "      <th>O16.1</th>\n",
       "    </tr>\n",
       "  </thead>\n",
       "  <tbody>\n",
       "    <tr>\n",
       "      <th>0</th>\n",
       "      <td>0</td>\n",
       "      <td>0</td>\n",
       "      <td>0</td>\n",
       "      <td>6.449640e-10</td>\n",
       "      <td>6.449640e-10</td>\n",
       "      <td>12</td>\n",
       "      <td>0.0</td>\n",
       "      <td>0</td>\n",
       "    </tr>\n",
       "    <tr>\n",
       "      <th>1</th>\n",
       "      <td>1</td>\n",
       "      <td>0</td>\n",
       "      <td>0</td>\n",
       "      <td>7.336760e-10</td>\n",
       "      <td>7.224090e-10</td>\n",
       "      <td>12</td>\n",
       "      <td>0.0</td>\n",
       "      <td>0</td>\n",
       "    </tr>\n",
       "    <tr>\n",
       "      <th>2</th>\n",
       "      <td>2</td>\n",
       "      <td>0</td>\n",
       "      <td>0</td>\n",
       "      <td>3.965410e-10</td>\n",
       "      <td>3.965410e-10</td>\n",
       "      <td>11</td>\n",
       "      <td>0.0</td>\n",
       "      <td>0</td>\n",
       "    </tr>\n",
       "    <tr>\n",
       "      <th>3</th>\n",
       "      <td>3</td>\n",
       "      <td>0</td>\n",
       "      <td>0</td>\n",
       "      <td>3.725210e-10</td>\n",
       "      <td>3.725210e-10</td>\n",
       "      <td>11</td>\n",
       "      <td>0.0</td>\n",
       "      <td>0</td>\n",
       "    </tr>\n",
       "    <tr>\n",
       "      <th>4</th>\n",
       "      <td>4</td>\n",
       "      <td>0</td>\n",
       "      <td>0</td>\n",
       "      <td>3.968540e-10</td>\n",
       "      <td>3.968540e-10</td>\n",
       "      <td>11</td>\n",
       "      <td>0.0</td>\n",
       "      <td>0</td>\n",
       "    </tr>\n",
       "  </tbody>\n",
       "</table>\n",
       "</div>"
      ],
      "text/plain": [
       "   i  j  k      Dose(Gy)      proton_1  proton_1.1  O16  O16.1\n",
       "0  0  0  0  6.449640e-10  6.449640e-10          12  0.0      0\n",
       "1  1  0  0  7.336760e-10  7.224090e-10          12  0.0      0\n",
       "2  2  0  0  3.965410e-10  3.965410e-10          11  0.0      0\n",
       "3  3  0  0  3.725210e-10  3.725210e-10          11  0.0      0\n",
       "4  4  0  0  3.968540e-10  3.968540e-10          11  0.0      0"
      ]
     },
     "execution_count": 3,
     "metadata": {},
     "output_type": "execute_result"
    }
   ],
   "source": [
    "Dose_50_b.head()"
   ]
  },
  {
   "cell_type": "code",
   "execution_count": 4,
   "id": "937a5390-5f4e-4c63-b772-21605ac4fdd3",
   "metadata": {},
   "outputs": [
    {
     "data": {
      "text/html": [
       "<div>\n",
       "<style scoped>\n",
       "    .dataframe tbody tr th:only-of-type {\n",
       "        vertical-align: middle;\n",
       "    }\n",
       "\n",
       "    .dataframe tbody tr th {\n",
       "        vertical-align: top;\n",
       "    }\n",
       "\n",
       "    .dataframe thead th {\n",
       "        text-align: right;\n",
       "    }\n",
       "</style>\n",
       "<table border=\"1\" class=\"dataframe\">\n",
       "  <thead>\n",
       "    <tr style=\"text-align: right;\">\n",
       "      <th></th>\n",
       "      <th>i</th>\n",
       "      <th>j</th>\n",
       "      <th>k</th>\n",
       "      <th>Dose(Gy)</th>\n",
       "      <th>proton_1</th>\n",
       "      <th>proton_1.1</th>\n",
       "      <th>O16</th>\n",
       "      <th>O16.1</th>\n",
       "    </tr>\n",
       "  </thead>\n",
       "  <tbody>\n",
       "    <tr>\n",
       "      <th>count</th>\n",
       "      <td>97.000000</td>\n",
       "      <td>97.0</td>\n",
       "      <td>97.0</td>\n",
       "      <td>9.700000e+01</td>\n",
       "      <td>9.700000e+01</td>\n",
       "      <td>97.000000</td>\n",
       "      <td>9.700000e+01</td>\n",
       "      <td>97.000000</td>\n",
       "    </tr>\n",
       "    <tr>\n",
       "      <th>mean</th>\n",
       "      <td>48.000000</td>\n",
       "      <td>0.0</td>\n",
       "      <td>0.0</td>\n",
       "      <td>6.170204e-10</td>\n",
       "      <td>6.159198e-10</td>\n",
       "      <td>9.865979</td>\n",
       "      <td>7.570979e-13</td>\n",
       "      <td>0.010309</td>\n",
       "    </tr>\n",
       "    <tr>\n",
       "      <th>std</th>\n",
       "      <td>28.145456</td>\n",
       "      <td>0.0</td>\n",
       "      <td>0.0</td>\n",
       "      <td>2.904870e-10</td>\n",
       "      <td>2.909486e-10</td>\n",
       "      <td>1.705560</td>\n",
       "      <td>7.456550e-12</td>\n",
       "      <td>0.101535</td>\n",
       "    </tr>\n",
       "    <tr>\n",
       "      <th>min</th>\n",
       "      <td>0.000000</td>\n",
       "      <td>0.0</td>\n",
       "      <td>0.0</td>\n",
       "      <td>1.380340e-10</td>\n",
       "      <td>1.380340e-10</td>\n",
       "      <td>1.000000</td>\n",
       "      <td>0.000000e+00</td>\n",
       "      <td>0.000000</td>\n",
       "    </tr>\n",
       "    <tr>\n",
       "      <th>25%</th>\n",
       "      <td>24.000000</td>\n",
       "      <td>0.0</td>\n",
       "      <td>0.0</td>\n",
       "      <td>4.391360e-10</td>\n",
       "      <td>4.391360e-10</td>\n",
       "      <td>10.000000</td>\n",
       "      <td>0.000000e+00</td>\n",
       "      <td>0.000000</td>\n",
       "    </tr>\n",
       "    <tr>\n",
       "      <th>50%</th>\n",
       "      <td>48.000000</td>\n",
       "      <td>0.0</td>\n",
       "      <td>0.0</td>\n",
       "      <td>5.044300e-10</td>\n",
       "      <td>5.037320e-10</td>\n",
       "      <td>10.000000</td>\n",
       "      <td>0.000000e+00</td>\n",
       "      <td>0.000000</td>\n",
       "    </tr>\n",
       "    <tr>\n",
       "      <th>75%</th>\n",
       "      <td>72.000000</td>\n",
       "      <td>0.0</td>\n",
       "      <td>0.0</td>\n",
       "      <td>6.772520e-10</td>\n",
       "      <td>6.772520e-10</td>\n",
       "      <td>11.000000</td>\n",
       "      <td>0.000000e+00</td>\n",
       "      <td>0.000000</td>\n",
       "    </tr>\n",
       "    <tr>\n",
       "      <th>max</th>\n",
       "      <td>96.000000</td>\n",
       "      <td>0.0</td>\n",
       "      <td>0.0</td>\n",
       "      <td>1.728640e-09</td>\n",
       "      <td>1.728640e-09</td>\n",
       "      <td>12.000000</td>\n",
       "      <td>7.343850e-11</td>\n",
       "      <td>1.000000</td>\n",
       "    </tr>\n",
       "  </tbody>\n",
       "</table>\n",
       "</div>"
      ],
      "text/plain": [
       "               i     j     k      Dose(Gy)      proton_1  proton_1.1  \\\n",
       "count  97.000000  97.0  97.0  9.700000e+01  9.700000e+01   97.000000   \n",
       "mean   48.000000   0.0   0.0  6.170204e-10  6.159198e-10    9.865979   \n",
       "std    28.145456   0.0   0.0  2.904870e-10  2.909486e-10    1.705560   \n",
       "min     0.000000   0.0   0.0  1.380340e-10  1.380340e-10    1.000000   \n",
       "25%    24.000000   0.0   0.0  4.391360e-10  4.391360e-10   10.000000   \n",
       "50%    48.000000   0.0   0.0  5.044300e-10  5.037320e-10   10.000000   \n",
       "75%    72.000000   0.0   0.0  6.772520e-10  6.772520e-10   11.000000   \n",
       "max    96.000000   0.0   0.0  1.728640e-09  1.728640e-09   12.000000   \n",
       "\n",
       "                O16      O16.1  \n",
       "count  9.700000e+01  97.000000  \n",
       "mean   7.570979e-13   0.010309  \n",
       "std    7.456550e-12   0.101535  \n",
       "min    0.000000e+00   0.000000  \n",
       "25%    0.000000e+00   0.000000  \n",
       "50%    0.000000e+00   0.000000  \n",
       "75%    0.000000e+00   0.000000  \n",
       "max    7.343850e-11   1.000000  "
      ]
     },
     "execution_count": 4,
     "metadata": {},
     "output_type": "execute_result"
    }
   ],
   "source": [
    "Dose_50_b.describe()"
   ]
  },
  {
   "cell_type": "markdown",
   "id": "34cd46ee-6f33-4fd9-a56a-09334c1ff7d1",
   "metadata": {},
   "source": [
    "Renombramos la columna \"i\" que es la dimensión por la que se mueven los protones por \"mm\" medidas de distancia "
   ]
  },
  {
   "cell_type": "code",
   "execution_count": 5,
   "id": "81f75af7-cd8c-464c-8fea-7ad746436ec7",
   "metadata": {},
   "outputs": [],
   "source": [
    "Dose_60_b[\"i\"] = Dose_60_b[\"i\"] * 0.1\n",
    "Dose_70_b[\"i\"] = Dose_70_b[\"i\"] * 0.1\n",
    "Dose_50_b[\"i\"] = Dose_50_b[\"i\"] * 0.1\n",
    "Dose_90_b[\"i\"] = Dose_90_b[\"i\"] * 0.1\n",
    "Dose_60_b = Dose_60_b.rename(columns={\"i\": \"mm\"})\n",
    "Dose_70_b = Dose_70_b.rename(columns={\"i\": \"mm\"})\n",
    "Dose_50_b = Dose_50_b.rename(columns={\"i\": \"mm\"})\n",
    "Dose_90_b = Dose_90_b.rename(columns={\"i\": \"mm\"})"
   ]
  },
  {
   "cell_type": "markdown",
   "id": "a4d229f1-28f7-4905-abfb-012f794dd617",
   "metadata": {},
   "source": [
    "Graficamos las 4 diferentes dosis en mismo plot para ver como se comportan"
   ]
  },
  {
   "cell_type": "code",
   "execution_count": 6,
   "id": "b8de0846-bdff-41d6-9d59-b8261b7cd2f4",
   "metadata": {},
   "outputs": [
    {
     "data": {
      "image/png": "[encoded data removed]",
      "text/plain": [
       "<Figure size 1000x600 with 1 Axes>"
      ]
     },
     "metadata": {},
     "output_type": "display_data"
    }
   ],
   "source": [
    "plt.figure(figsize=(10, 6))\n",
    "\n",
    "plt.plot(Dose_90_b['mm'], Dose_90_b['Dose(Gy)'], label='Dosis con 90 MeV', color='blue')\n",
    "plt.plot(Dose_70_b['mm'], Dose_70_b['Dose(Gy)'], label='Dosis con 70 MeV', color='orange')\n",
    "plt.plot(Dose_60_b['mm'], Dose_60_b['Dose(Gy)'], label='Dosis con 60 MeV', color='green')\n",
    "plt.plot(Dose_50_b['mm'], Dose_50_b['Dose(Gy)'], label='Dosis con 50 MeV', color='red')\n",
    "\n",
    "plt.xlabel('mm')\n",
    "plt.ylabel('Dosis (Gy)')\n",
    "plt.title('Dosis depositada en el voxel')\n",
    "plt.legend()\n",
    "plt.grid(True)\n",
    "\n",
    "plt.show()"
   ]
  },
  {
   "cell_type": "markdown",
   "id": "addb6de8-9184-4c42-987a-cd9242f10f1f",
   "metadata": {},
   "source": [
    "Vemos el pico máximo y su valor correspondiente en su longitud para cada Dosis."
   ]
  },
  {
   "cell_type": "code",
   "execution_count": 8,
   "id": "754ad15b-a25a-4f01-9b13-c5152c03d795",
   "metadata": {},
   "outputs": [
    {
     "name": "stdout",
     "output_type": "stream",
     "text": [
      "El valor máximo de Dose(Gy) es: 5.31385e-09\n",
      "El valor de i correspondiente al valor máximo de Dose(Gy) es: 26.900000000000002\n"
     ]
    }
   ],
   "source": [
    "max = Dose_60_b['Dose(Gy)'].max()\n",
    "value_max = Dose_60_b.loc[Dose_60_b['Dose(Gy)'].idxmax(), 'mm']\n",
    "print(f'El valor máximo de Dose(Gy) es: {max}')\n",
    "print(f'El valor de i correspondiente al valor máximo de Dose(Gy) es: {value_max}')"
   ]
  },
  {
   "cell_type": "code",
   "execution_count": 9,
   "id": "260a4f8c-8e15-41fc-bdbc-edf244d33db6",
   "metadata": {},
   "outputs": [
    {
     "name": "stdout",
     "output_type": "stream",
     "text": [
      "El valor máximo de Dose(Gy) es: 4.96203e-09\n",
      "El valor de i correspondiente al valor máximo de Dose(Gy) es: 18.3\n"
     ]
    }
   ],
   "source": [
    "max = Dose_50_b['Dose(Gy)'].max()\n",
    "value_max = Dose_50_b.loc[Dose_50_b['Dose(Gy)'].idxmax(), 'mm']\n",
    "print(f'El valor máximo de Dose(Gy) es: {max}')\n",
    "print(f'El valor de i correspondiente al valor máximo de Dose(Gy) es: {value_max}')"
   ]
  },
  {
   "cell_type": "code",
   "execution_count": null,
   "id": "d04908e3-f574-4fa3-80d8-4de3bc13a885",
   "metadata": {},
   "outputs": [],
   "source": []
  }
 ],
 "metadata": {
  "kernelspec": {
   "display_name": "TF24",
   "language": "python",
   "name": "tf24"
  },
  "language_info": {
   "codemirror_mode": {
    "name": "ipython",
    "version": 3
   },
   "file_extension": ".py",
   "mimetype": "text/x-python",
   "name": "python",
   "nbconvert_exporter": "python",
   "pygments_lexer": "ipython3",
   "version": "3.8.5"
  }
 },
 "nbformat": 4,
 "nbformat_minor": 5
}
