{
 "cells": [
  {
   "cell_type": "code",
   "execution_count": 1,
   "id": "8c39dd00-1e1d-46b0-9cd2-d7782b32f3b1",
   "metadata": {},
   "outputs": [],
   "source": [
    "import pandas as pd\n",
    "import matplotlib.pyplot as plt"
   ]
  },
  {
   "cell_type": "markdown",
   "id": "47402033-ed64-4125-ba3d-94a8fd4bdd2e",
   "metadata": {},
   "source": [
    "Leemos los archivos \"Dose.out\" y lo cargamos como datasets"
   ]
  },
  {
   "cell_type": "code",
   "execution_count": 2,
   "id": "b109866a-fd99-4f00-b15c-9080ea1de114",
   "metadata": {},
   "outputs": [],
   "source": [
    "Dose_60_b = pd.read_csv(\"Dose_60_b.out\", delim_whitespace=True)\n",
    "Dose_50_b = pd.read_csv(\"Dose_50_b.out\", delim_whitespace=True)"
   ]
  },
  {
   "cell_type": "markdown",
   "id": "634fad59-11d6-4aa1-a3cf-7a105a8345e1",
   "metadata": {},
   "source": [
    "Vemos el contenido que contiene y su estadística básica (con uno es suficiente)"
   ]
  },
  {
   "cell_type": "code",
   "execution_count": 3,
   "id": "d3f41b97-5db5-46ee-a9a0-45da61988c9c",
   "metadata": {},
   "outputs": [
    {
     "data": {
      "text/html": [
       "<div>\n",
       "<style scoped>\n",
       "    .dataframe tbody tr th:only-of-type {\n",
       "        vertical-align: middle;\n",
       "    }\n",
       "\n",
       "    .dataframe tbody tr th {\n",
       "        vertical-align: top;\n",
       "    }\n",
       "\n",
       "    .dataframe thead th {\n",
       "        text-align: right;\n",
       "    }\n",
       "</style>\n",
       "<table border=\"1\" class=\"dataframe\">\n",
       "  <thead>\n",
       "    <tr style=\"text-align: right;\">\n",
       "      <th></th>\n",
       "      <th>i</th>\n",
       "      <th>j</th>\n",
       "      <th>k</th>\n",
       "      <th>Dose(Gy)</th>\n",
       "      <th>proton_1</th>\n",
       "      <th>proton_1.1</th>\n",
       "      <th>proton</th>\n",
       "      <th>proton.1</th>\n",
       "      <th>N14</th>\n",
       "      <th>N14.1</th>\n",
       "      <th>O16</th>\n",
       "      <th>O16.1</th>\n",
       "    </tr>\n",
       "  </thead>\n",
       "  <tbody>\n",
       "    <tr>\n",
       "      <th>0</th>\n",
       "      <td>0</td>\n",
       "      <td>0</td>\n",
       "      <td>0</td>\n",
       "      <td>7.441900e-10</td>\n",
       "      <td>7.207040e-10</td>\n",
       "      <td>22</td>\n",
       "      <td>0.0</td>\n",
       "      <td>0</td>\n",
       "      <td>0.0</td>\n",
       "      <td>0</td>\n",
       "      <td>0.0</td>\n",
       "      <td>0</td>\n",
       "    </tr>\n",
       "    <tr>\n",
       "      <th>1</th>\n",
       "      <td>1</td>\n",
       "      <td>0</td>\n",
       "      <td>0</td>\n",
       "      <td>7.713430e-10</td>\n",
       "      <td>7.713430e-10</td>\n",
       "      <td>22</td>\n",
       "      <td>0.0</td>\n",
       "      <td>0</td>\n",
       "      <td>0.0</td>\n",
       "      <td>0</td>\n",
       "      <td>0.0</td>\n",
       "      <td>0</td>\n",
       "    </tr>\n",
       "    <tr>\n",
       "      <th>2</th>\n",
       "      <td>2</td>\n",
       "      <td>0</td>\n",
       "      <td>0</td>\n",
       "      <td>6.995920e-10</td>\n",
       "      <td>6.995920e-10</td>\n",
       "      <td>22</td>\n",
       "      <td>0.0</td>\n",
       "      <td>0</td>\n",
       "      <td>0.0</td>\n",
       "      <td>0</td>\n",
       "      <td>0.0</td>\n",
       "      <td>0</td>\n",
       "    </tr>\n",
       "    <tr>\n",
       "      <th>3</th>\n",
       "      <td>3</td>\n",
       "      <td>0</td>\n",
       "      <td>0</td>\n",
       "      <td>7.286530e-10</td>\n",
       "      <td>7.286010e-10</td>\n",
       "      <td>22</td>\n",
       "      <td>0.0</td>\n",
       "      <td>0</td>\n",
       "      <td>0.0</td>\n",
       "      <td>0</td>\n",
       "      <td>0.0</td>\n",
       "      <td>0</td>\n",
       "    </tr>\n",
       "    <tr>\n",
       "      <th>4</th>\n",
       "      <td>4</td>\n",
       "      <td>0</td>\n",
       "      <td>0</td>\n",
       "      <td>7.502330e-10</td>\n",
       "      <td>7.284520e-10</td>\n",
       "      <td>22</td>\n",
       "      <td>0.0</td>\n",
       "      <td>0</td>\n",
       "      <td>0.0</td>\n",
       "      <td>0</td>\n",
       "      <td>0.0</td>\n",
       "      <td>0</td>\n",
       "    </tr>\n",
       "  </tbody>\n",
       "</table>\n",
       "</div>"
      ],
      "text/plain": [
       "   i  j  k      Dose(Gy)      proton_1  proton_1.1  proton  proton.1  N14  \\\n",
       "0  0  0  0  7.441900e-10  7.207040e-10          22     0.0         0  0.0   \n",
       "1  1  0  0  7.713430e-10  7.713430e-10          22     0.0         0  0.0   \n",
       "2  2  0  0  6.995920e-10  6.995920e-10          22     0.0         0  0.0   \n",
       "3  3  0  0  7.286530e-10  7.286010e-10          22     0.0         0  0.0   \n",
       "4  4  0  0  7.502330e-10  7.284520e-10          22     0.0         0  0.0   \n",
       "\n",
       "   N14.1  O16  O16.1  \n",
       "0      0  0.0      0  \n",
       "1      0  0.0      0  \n",
       "2      0  0.0      0  \n",
       "3      0  0.0      0  \n",
       "4      0  0.0      0  "
      ]
     },
     "execution_count": 3,
     "metadata": {},
     "output_type": "execute_result"
    }
   ],
   "source": [
    "Dose_50_b.head()"
   ]
  },
  {
   "cell_type": "code",
   "execution_count": 4,
   "id": "937a5390-5f4e-4c63-b772-21605ac4fdd3",
   "metadata": {},
   "outputs": [
    {
     "data": {
      "text/html": [
       "<div>\n",
       "<style scoped>\n",
       "    .dataframe tbody tr th:only-of-type {\n",
       "        vertical-align: middle;\n",
       "    }\n",
       "\n",
       "    .dataframe tbody tr th {\n",
       "        vertical-align: top;\n",
       "    }\n",
       "\n",
       "    .dataframe thead th {\n",
       "        text-align: right;\n",
       "    }\n",
       "</style>\n",
       "<table border=\"1\" class=\"dataframe\">\n",
       "  <thead>\n",
       "    <tr style=\"text-align: right;\">\n",
       "      <th></th>\n",
       "      <th>i</th>\n",
       "      <th>j</th>\n",
       "      <th>k</th>\n",
       "      <th>Dose(Gy)</th>\n",
       "      <th>proton_1</th>\n",
       "      <th>proton_1.1</th>\n",
       "      <th>proton</th>\n",
       "      <th>proton.1</th>\n",
       "      <th>N14</th>\n",
       "      <th>N14.1</th>\n",
       "      <th>O16</th>\n",
       "      <th>O16.1</th>\n",
       "    </tr>\n",
       "  </thead>\n",
       "  <tbody>\n",
       "    <tr>\n",
       "      <th>count</th>\n",
       "      <td>192.000000</td>\n",
       "      <td>192.0</td>\n",
       "      <td>192.0</td>\n",
       "      <td>1.920000e+02</td>\n",
       "      <td>1.920000e+02</td>\n",
       "      <td>192.000000</td>\n",
       "      <td>1.920000e+02</td>\n",
       "      <td>192.000000</td>\n",
       "      <td>1.920000e+02</td>\n",
       "      <td>192.000000</td>\n",
       "      <td>1.920000e+02</td>\n",
       "      <td>192.000000</td>\n",
       "    </tr>\n",
       "    <tr>\n",
       "      <th>mean</th>\n",
       "      <td>95.604167</td>\n",
       "      <td>0.0</td>\n",
       "      <td>0.0</td>\n",
       "      <td>1.253730e-09</td>\n",
       "      <td>1.228239e-09</td>\n",
       "      <td>20.203125</td>\n",
       "      <td>1.875635e-11</td>\n",
       "      <td>0.031250</td>\n",
       "      <td>5.664688e-12</td>\n",
       "      <td>0.005208</td>\n",
       "      <td>1.461745e-13</td>\n",
       "      <td>0.005208</td>\n",
       "    </tr>\n",
       "    <tr>\n",
       "      <th>std</th>\n",
       "      <td>55.760610</td>\n",
       "      <td>0.0</td>\n",
       "      <td>0.0</td>\n",
       "      <td>7.625105e-10</td>\n",
       "      <td>7.449256e-10</td>\n",
       "      <td>3.316686</td>\n",
       "      <td>1.819825e-10</td>\n",
       "      <td>0.202245</td>\n",
       "      <td>7.849221e-11</td>\n",
       "      <td>0.072169</td>\n",
       "      <td>2.025453e-12</td>\n",
       "      <td>0.072169</td>\n",
       "    </tr>\n",
       "    <tr>\n",
       "      <th>min</th>\n",
       "      <td>0.000000</td>\n",
       "      <td>0.0</td>\n",
       "      <td>0.0</td>\n",
       "      <td>3.913800e-12</td>\n",
       "      <td>0.000000e+00</td>\n",
       "      <td>0.000000</td>\n",
       "      <td>0.000000e+00</td>\n",
       "      <td>0.000000</td>\n",
       "      <td>0.000000e+00</td>\n",
       "      <td>0.000000</td>\n",
       "      <td>0.000000e+00</td>\n",
       "      <td>0.000000</td>\n",
       "    </tr>\n",
       "    <tr>\n",
       "      <th>25%</th>\n",
       "      <td>47.750000</td>\n",
       "      <td>0.0</td>\n",
       "      <td>0.0</td>\n",
       "      <td>8.121895e-10</td>\n",
       "      <td>8.055590e-10</td>\n",
       "      <td>20.000000</td>\n",
       "      <td>0.000000e+00</td>\n",
       "      <td>0.000000</td>\n",
       "      <td>0.000000e+00</td>\n",
       "      <td>0.000000</td>\n",
       "      <td>0.000000e+00</td>\n",
       "      <td>0.000000</td>\n",
       "    </tr>\n",
       "    <tr>\n",
       "      <th>50%</th>\n",
       "      <td>95.500000</td>\n",
       "      <td>0.0</td>\n",
       "      <td>0.0</td>\n",
       "      <td>9.939245e-10</td>\n",
       "      <td>9.807615e-10</td>\n",
       "      <td>21.000000</td>\n",
       "      <td>0.000000e+00</td>\n",
       "      <td>0.000000</td>\n",
       "      <td>0.000000e+00</td>\n",
       "      <td>0.000000</td>\n",
       "      <td>0.000000e+00</td>\n",
       "      <td>0.000000</td>\n",
       "    </tr>\n",
       "    <tr>\n",
       "      <th>75%</th>\n",
       "      <td>143.250000</td>\n",
       "      <td>0.0</td>\n",
       "      <td>0.0</td>\n",
       "      <td>1.343103e-09</td>\n",
       "      <td>1.309742e-09</td>\n",
       "      <td>21.000000</td>\n",
       "      <td>0.000000e+00</td>\n",
       "      <td>0.000000</td>\n",
       "      <td>0.000000e+00</td>\n",
       "      <td>0.000000</td>\n",
       "      <td>0.000000e+00</td>\n",
       "      <td>0.000000</td>\n",
       "    </tr>\n",
       "    <tr>\n",
       "      <th>max</th>\n",
       "      <td>206.000000</td>\n",
       "      <td>0.0</td>\n",
       "      <td>0.0</td>\n",
       "      <td>4.962030e-09</td>\n",
       "      <td>4.962030e-09</td>\n",
       "      <td>22.000000</td>\n",
       "      <td>2.353610e-09</td>\n",
       "      <td>2.000000</td>\n",
       "      <td>1.087620e-09</td>\n",
       "      <td>1.000000</td>\n",
       "      <td>2.806550e-11</td>\n",
       "      <td>1.000000</td>\n",
       "    </tr>\n",
       "  </tbody>\n",
       "</table>\n",
       "</div>"
      ],
      "text/plain": [
       "                i      j      k      Dose(Gy)      proton_1  proton_1.1  \\\n",
       "count  192.000000  192.0  192.0  1.920000e+02  1.920000e+02  192.000000   \n",
       "mean    95.604167    0.0    0.0  1.253730e-09  1.228239e-09   20.203125   \n",
       "std     55.760610    0.0    0.0  7.625105e-10  7.449256e-10    3.316686   \n",
       "min      0.000000    0.0    0.0  3.913800e-12  0.000000e+00    0.000000   \n",
       "25%     47.750000    0.0    0.0  8.121895e-10  8.055590e-10   20.000000   \n",
       "50%     95.500000    0.0    0.0  9.939245e-10  9.807615e-10   21.000000   \n",
       "75%    143.250000    0.0    0.0  1.343103e-09  1.309742e-09   21.000000   \n",
       "max    206.000000    0.0    0.0  4.962030e-09  4.962030e-09   22.000000   \n",
       "\n",
       "             proton    proton.1           N14       N14.1           O16  \\\n",
       "count  1.920000e+02  192.000000  1.920000e+02  192.000000  1.920000e+02   \n",
       "mean   1.875635e-11    0.031250  5.664688e-12    0.005208  1.461745e-13   \n",
       "std    1.819825e-10    0.202245  7.849221e-11    0.072169  2.025453e-12   \n",
       "min    0.000000e+00    0.000000  0.000000e+00    0.000000  0.000000e+00   \n",
       "25%    0.000000e+00    0.000000  0.000000e+00    0.000000  0.000000e+00   \n",
       "50%    0.000000e+00    0.000000  0.000000e+00    0.000000  0.000000e+00   \n",
       "75%    0.000000e+00    0.000000  0.000000e+00    0.000000  0.000000e+00   \n",
       "max    2.353610e-09    2.000000  1.087620e-09    1.000000  2.806550e-11   \n",
       "\n",
       "            O16.1  \n",
       "count  192.000000  \n",
       "mean     0.005208  \n",
       "std      0.072169  \n",
       "min      0.000000  \n",
       "25%      0.000000  \n",
       "50%      0.000000  \n",
       "75%      0.000000  \n",
       "max      1.000000  "
      ]
     },
     "execution_count": 4,
     "metadata": {},
     "output_type": "execute_result"
    }
   ],
   "source": [
    "Dose_50_b.describe()"
   ]
  },
  {
   "cell_type": "markdown",
   "id": "34cd46ee-6f33-4fd9-a56a-09334c1ff7d1",
   "metadata": {},
   "source": [
    "Renombramos la columna \"i\" que es la dimensión por la que se mueven los protones por \"mm\" medidas de distancia "
   ]
  },
  {
   "cell_type": "code",
   "execution_count": 5,
   "id": "81f75af7-cd8c-464c-8fea-7ad746436ec7",
   "metadata": {},
   "outputs": [],
   "source": [
    "Dose_60_b[\"i\"] = Dose_60_b[\"i\"] * 0.1\n",
    "Dose_50_b[\"i\"] = Dose_50_b[\"i\"] * 0.1\n",
    "Dose_60_b = Dose_60_b.rename(columns={\"i\": \"mm\"})\n",
    "Dose_50_b = Dose_50_b.rename(columns={\"i\": \"mm\"})"
   ]
  },
  {
   "cell_type": "markdown",
   "id": "a4d229f1-28f7-4905-abfb-012f794dd617",
   "metadata": {},
   "source": [
    "Graficamos las 4 diferentes dosis en mismo plot para ver como se comportan"
   ]
  },
  {
   "cell_type": "code",
   "execution_count": 6,
   "id": "b8de0846-bdff-41d6-9d59-b8261b7cd2f4",
   "metadata": {},
   "outputs": [
    {
     "data": {
      "image/png": "[encoded data removed]",
      "text/plain": [
       "<Figure size 1000x600 with 1 Axes>"
      ]
     },
     "metadata": {},
     "output_type": "display_data"
    }
   ],
   "source": [
    "plt.figure(figsize=(10, 6))\n",
    "\n",
    "plt.plot(Dose_60_b['mm'], Dose_60_b['Dose(Gy)'], label='Dosis con 60 MeV', color='green')\n",
    "plt.plot(Dose_50_b['mm'], Dose_50_b['Dose(Gy)'], label='Dosis con 50 MeV', color='red')\n",
    "\n",
    "plt.xlabel('mm')\n",
    "plt.ylabel('Dosis (Gy)')\n",
    "plt.title('Dosis depositada en el voxel')\n",
    "plt.legend()\n",
    "plt.grid(True)\n",
    "\n",
    "plt.show()"
   ]
  },
  {
   "cell_type": "markdown",
   "id": "addb6de8-9184-4c42-987a-cd9242f10f1f",
   "metadata": {},
   "source": [
    "Vemos el pico máximo y su valor correspondiente en su longitud para cada Dosis."
   ]
  },
  {
   "cell_type": "code",
   "execution_count": 8,
   "id": "754ad15b-a25a-4f01-9b13-c5152c03d795",
   "metadata": {},
   "outputs": [
    {
     "name": "stdout",
     "output_type": "stream",
     "text": [
      "El valor máximo de Dose(Gy) es: 5.31385e-09\n",
      "El valor de i correspondiente al valor máximo de Dose(Gy) es: 26.900000000000002\n"
     ]
    }
   ],
   "source": [
    "max = Dose_60_b['Dose(Gy)'].max()\n",
    "value_max = Dose_60_b.loc[Dose_60_b['Dose(Gy)'].idxmax(), 'mm']\n",
    "print(f'El valor máximo de Dose(Gy) es: {max}')\n",
    "print(f'El valor de i correspondiente al valor máximo de Dose(Gy) es: {value_max}')"
   ]
  },
  {
   "cell_type": "code",
   "execution_count": 9,
   "id": "260a4f8c-8e15-41fc-bdbc-edf244d33db6",
   "metadata": {},
   "outputs": [
    {
     "name": "stdout",
     "output_type": "stream",
     "text": [
      "El valor máximo de Dose(Gy) es: 4.96203e-09\n",
      "El valor de i correspondiente al valor máximo de Dose(Gy) es: 18.3\n"
     ]
    }
   ],
   "source": [
    "max = Dose_50_b['Dose(Gy)'].max()\n",
    "value_max = Dose_50_b.loc[Dose_50_b['Dose(Gy)'].idxmax(), 'mm']\n",
    "print(f'El valor máximo de Dose(Gy) es: {max}')\n",
    "print(f'El valor de i correspondiente al valor máximo de Dose(Gy) es: {value_max}')"
   ]
  },
  {
   "cell_type": "code",
   "execution_count": null,
   "id": "d04908e3-f574-4fa3-80d8-4de3bc13a885",
   "metadata": {},
   "outputs": [],
   "source": []
  }
 ],
 "metadata": {
  "kernelspec": {
   "display_name": "TF24",
   "language": "python",
   "name": "tf24"
  },
  "language_info": {
   "codemirror_mode": {
    "name": "ipython",
    "version": 3
   },
   "file_extension": ".py",
   "mimetype": "text/x-python",
   "name": "python",
   "nbconvert_exporter": "python",
   "pygments_lexer": "ipython3",
   "version": "3.8.5"
  }
 },
 "nbformat": 4,
 "nbformat_minor": 5
}
